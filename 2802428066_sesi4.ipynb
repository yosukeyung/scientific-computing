{
  "nbformat": 4,
  "nbformat_minor": 0,
  "metadata": {
    "colab": {
      "provenance": [],
      "authorship_tag": "ABX9TyMFDmOkjGTWkLooSDz3PQOi",
      "include_colab_link": true
    },
    "kernelspec": {
      "name": "python3",
      "display_name": "Python 3"
    },
    "language_info": {
      "name": "python"
    }
  },
  "cells": [
    {
      "cell_type": "markdown",
      "metadata": {
        "id": "view-in-github",
        "colab_type": "text"
      },
      "source": [
        "<a href=\"https://colab.research.google.com/github/yosukeyung/scientific-computing/blob/main/2802428066_sesi4.ipynb\" target=\"_parent\"><img src=\"https://colab.research.google.com/assets/colab-badge.svg\" alt=\"Open In Colab\"/></a>"
      ]
    },
    {
      "cell_type": "code",
      "execution_count": 1,
      "metadata": {
        "id": "br9o5fy9sFTY"
      },
      "outputs": [],
      "source": [
        "import numpy as np\n",
        "\n",
        "def my_bisection(f, a, b, tol):\n",
        "  if np.sign(f(a))==np.sign(f(b)):\n",
        "    raise Exception(\"The scalars a and b do not bound a root\")\n",
        "\n",
        "  m=(a+b)/2\n",
        "\n",
        "  if np.abs(f(m))<tol:\n",
        "    return m\n",
        "  elif np.sign(f(a))==np.sign(f(m)):\n",
        "    return my_bisection(f, m, b, tol)\n",
        "  elif np.sign(f(b))==np.sign(f(m)):\n",
        "    return my_bisection(f, a, m, tol)"
      ]
    },
    {
      "cell_type": "code",
      "source": [
        "f=lambda x: x**2-2\n",
        "\n",
        "r1=my_bisection(f, 0, 2, 0.1)\n",
        "print(\"r1 =\", r1)\n",
        "r01=my_bisection(f, 0, 2, 0.01)\n",
        "print(\"r01 =\", r01)\n",
        "\n",
        "print(\"f(r1) =\", f(r1))\n",
        "print(\"f(r01) =\", f(r01))"
      ],
      "metadata": {
        "colab": {
          "base_uri": "https://localhost:8080/"
        },
        "id": "PoF9oSlw1AWD",
        "outputId": "800babd0-c106-454b-d803-616151c1a51c"
      },
      "execution_count": null,
      "outputs": [
        {
          "output_type": "stream",
          "name": "stdout",
          "text": [
            "r1 = 1.4375\n",
            "r01 = 1.4140625\n",
            "f(r1) = 0.06640625\n",
            "f(r01) = -0.00042724609375\n"
          ]
        }
      ]
    },
    {
      "cell_type": "code",
      "source": [
        "import numpy as np\n",
        "\n",
        "f=lambda x: x**2-2\n",
        "f_prime=lambda x: 2*x\n",
        "newton_raphson=1.4-(f(1.4))/(f_prime(1.4))\n",
        "\n",
        "print(\"newton_raphson =\", newton_raphson)\n",
        "print(\"sqrt(2) =\", np.sqrt(2))"
      ],
      "metadata": {
        "colab": {
          "base_uri": "https://localhost:8080/"
        },
        "id": "yfDFseTBtcVT",
        "outputId": "ebb6a29e-f7a0-4633-ed0e-bb6b70c22ebc"
      },
      "execution_count": null,
      "outputs": [
        {
          "output_type": "stream",
          "name": "stdout",
          "text": [
            "newton_raphson = 1.4142857142857144\n",
            "sqrt(2) = 1.4142135623730951\n"
          ]
        }
      ]
    },
    {
      "cell_type": "code",
      "source": [
        "def my_newton(f, df, x0, tol):\n",
        "  if abs(f(x0))<tol:\n",
        "    return x0\n",
        "  else:\n",
        "    return my_newton(f, df, x0-f(x0)/df(x0), tol)"
      ],
      "metadata": {
        "id": "MV6Q-3-8t9bv"
      },
      "execution_count": 5,
      "outputs": []
    },
    {
      "cell_type": "code",
      "source": [
        "estimate=my_newton(f, f_prime, 1.5, 1e-6)\n",
        "print(\"estimate =\", estimate)\n",
        "print(\"sqrt(2) =\", np.sqrt(2))"
      ],
      "metadata": {
        "colab": {
          "base_uri": "https://localhost:8080/"
        },
        "id": "wWk59N1g1Mbb",
        "outputId": "44e9181d-260e-4c1c-997a-402be03ce4e5"
      },
      "execution_count": 6,
      "outputs": [
        {
          "output_type": "stream",
          "name": "stdout",
          "text": [
            "estimate = 0.0\n",
            "sqrt(2) = 1.4142135623730951\n"
          ]
        }
      ]
    },
    {
      "cell_type": "code",
      "source": [
        "f=lambda x: np.sin(x)-x\n",
        "\n",
        "r1=my_bisection(f, 0, 1, 0.01)\n",
        "print(\"r1 =\", r1)\n",
        "\n",
        "print(\"f(r1) =\", f(r1))"
      ],
      "metadata": {
        "colab": {
          "base_uri": "https://localhost:8080/"
        },
        "id": "u6817tNm5Wou",
        "outputId": "db1e2e01-c78b-41f3-bfa9-56eb4f0cbde4"
      },
      "execution_count": 16,
      "outputs": [
        {
          "output_type": "stream",
          "name": "stdout",
          "text": [
            "r1 = 0.25\n",
            "f(r1) = -0.002596040745477063\n"
          ]
        }
      ]
    },
    {
      "cell_type": "code",
      "source": [
        "f=lambda x: x**3-3*x**2+2*x\n",
        "f_prime=lambda x: 3*x**2-6*x+2\n",
        "newton_raphson=1.5-(f(1.5))/(f_prime(1.5))\n",
        "\n",
        "print(\"newton_raphson =\", newton_raphson)\n",
        "\n",
        "estimate=my_newton(f, f_prime, 1.5, 0.01)\n",
        "print(\"estimate =\", estimate)\n"
      ],
      "metadata": {
        "colab": {
          "base_uri": "https://localhost:8080/"
        },
        "id": "kbEiVvEg5vgZ",
        "outputId": "1a66dd7e-f013-46ec-f891-018388654e92"
      },
      "execution_count": 23,
      "outputs": [
        {
          "output_type": "stream",
          "name": "stdout",
          "text": [
            "newton_raphson = 0.0\n",
            "estimate = 0.0\n"
          ]
        }
      ]
    }
  ]
}