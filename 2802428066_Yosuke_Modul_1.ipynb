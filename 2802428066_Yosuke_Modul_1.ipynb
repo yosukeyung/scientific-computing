{
  "nbformat": 4,
  "nbformat_minor": 0,
  "metadata": {
    "colab": {
      "provenance": [],
      "authorship_tag": "ABX9TyNvHYBydww9tvhaquNf9uyB",
      "include_colab_link": true
    },
    "kernelspec": {
      "name": "python3",
      "display_name": "Python 3"
    },
    "language_info": {
      "name": "python"
    }
  },
  "cells": [
    {
      "cell_type": "markdown",
      "metadata": {
        "id": "view-in-github",
        "colab_type": "text"
      },
      "source": [
        "<a href=\"https://colab.research.google.com/github/yosukeyung/scientific-computing/blob/main/2802428066_Yosuke_Modul_1.ipynb\" target=\"_parent\"><img src=\"https://colab.research.google.com/assets/colab-badge.svg\" alt=\"Open In Colab\"/></a>"
      ]
    },
    {
      "cell_type": "code",
      "source": [
        "def Calculate(a, t, s):\n",
        "  na=a*(50/100)\n",
        "  nt=t*(30/100)\n",
        "  ns=s*(20/100)\n",
        "  return na+nt+ns"
      ],
      "metadata": {
        "id": "4f2nfz1pEqrs"
      },
      "execution_count": 39,
      "outputs": []
    },
    {
      "cell_type": "code",
      "execution_count": 42,
      "metadata": {
        "id": "U8JoNJfH_Y6s",
        "colab": {
          "base_uri": "https://localhost:8080/"
        },
        "outputId": "bc3a47e3-972f-4ce5-89de-ee0ec6b2a74d"
      },
      "outputs": [
        {
          "output_type": "stream",
          "name": "stdout",
          "text": [
            "Masukkan username anda : yosuke\n",
            "Masukkan password anda : Bn123\n",
            "Login berhasil, Selamat Datang yosuke\n",
            "Masukkan nama siswa : yosuke\n",
            "Masukkan Nilai UAS : 90\n",
            "Masukkan Nilai UTS : 75\n",
            "Masukkan Nilai Assignment : 98\n",
            "====================================\n",
            "Hasil perolehan nilai yosuke\n",
            "Final Score: 87.1\n",
            "Grade A-\n"
          ]
        }
      ],
      "source": [
        "user=input(\"Masukkan username anda : \")\n",
        "while True:\n",
        "    pw=input(\"Masukkan password anda : \")\n",
        "    if pw==\"Bn123\":\n",
        "      print(\"Login berhasil, Selamat Datang\", user)\n",
        "      break\n",
        "    else:\n",
        "      print(\"Incorrect Password\")\n",
        "\n",
        "name=input(\"Masukkan nama siswa : \")\n",
        "uas=input(\"Masukkan Nilai UAS : \")\n",
        "uts=input(\"Masukkan Nilai UTS : \")\n",
        "ass=input(\"Masukkan Nilai Assignment : \")\n",
        "\n",
        "print(\"====================================\")\n",
        "print(\"Hasil perolehan nilai\", name)\n",
        "final=Calculate(int(uas), int(uts), int(ass))\n",
        "print(\"Final Score:\", final)\n",
        "\n",
        "if final==0:\n",
        "      g='F'\n",
        "elif final<=49:\n",
        "      g='E'\n",
        "elif final<=64:\n",
        "      g='D'\n",
        "elif final<=69:\n",
        "      g='C'\n",
        "elif final<=74:\n",
        "      g='B-'\n",
        "elif final<=79:\n",
        "      g='B'\n",
        "elif final<=84:\n",
        "      g='B+'\n",
        "elif final<=89:\n",
        "      g='A-'\n",
        "elif final<=100:\n",
        "      g='A'\n",
        "\n",
        "print(\"Grade\", g)\n",
        "\n",
        "\n"
      ]
    },
    {
      "cell_type": "code",
      "source": [],
      "metadata": {
        "id": "6GdKICVJNAQ9"
      },
      "execution_count": null,
      "outputs": []
    }
  ]
}