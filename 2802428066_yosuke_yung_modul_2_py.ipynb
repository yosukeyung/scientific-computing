{
  "nbformat": 4,
  "nbformat_minor": 0,
  "metadata": {
    "colab": {
      "provenance": [],
      "authorship_tag": "ABX9TyOFrJAUJ2ATbgrkgg9R+2hT",
      "include_colab_link": true
    },
    "kernelspec": {
      "name": "python3",
      "display_name": "Python 3"
    },
    "language_info": {
      "name": "python"
    }
  },
  "cells": [
    {
      "cell_type": "markdown",
      "metadata": {
        "id": "view-in-github",
        "colab_type": "text"
      },
      "source": [
        "<a href=\"https://colab.research.google.com/github/yosukeyung/scientific-computing/blob/main/2802428066_yosuke_yung_modul_2_py.ipynb\" target=\"_parent\"><img src=\"https://colab.research.google.com/assets/colab-badge.svg\" alt=\"Open In Colab\"/></a>"
      ]
    },
    {
      "cell_type": "code",
      "execution_count": null,
      "metadata": {
        "colab": {
          "base_uri": "https://localhost:8080/"
        },
        "id": "Lsn5C6YYt7hZ",
        "outputId": "3b78f5ec-8499-4a67-b6d7-4f15f0b2cdad"
      },
      "outputs": [
        {
          "output_type": "stream",
          "name": "stdout",
          "text": [
            "not diagonally dominant\n"
          ]
        }
      ],
      "source": [
        "#1.a.\n",
        "\n",
        "import numpy as np\n",
        "\n",
        "a=[[2,3,-1],[1,-1,2],[3,2,1]]\n",
        "b=[10,4,14]\n",
        "\n",
        "\n",
        "\n",
        "diag=np.diag(np.abs(a))\n",
        "\n",
        "odiag=np.sum(np.abs(a), axis=1)-diag\n",
        "\n",
        "if np.all(diag>odiag):\n",
        "    x=5\n",
        "    y=5\n",
        "    z=5\n",
        "    e=0.001\n",
        "    converged=False\n",
        "    xo=np.array([x,y,z])\n",
        "\n",
        "    for k in range(1,50):\n",
        "      x=(10-3*y+1*z)/2\n",
        "      y=(4-1*x-2*z)/(-1)\n",
        "      z=(14-3*x-2*y)/1\n",
        "      xn=np.array([x,y,z])\n",
        "\n",
        "      dx=np.sqrt(np.dot(xn-xo,xn-xo))\n",
        "\n",
        "      print(\"%d,   %.4f,    %.4f,    %.4f\"%(k,x,y,z))\n",
        "      if dx<e:\n",
        "        converged=True;\n",
        "        print(\"converged\")\n",
        "        break\n",
        "      xo=xn\n",
        "\n",
        "    if not converged:\n",
        "        print(\"not converged, increase the iteration\")\n",
        "\n",
        "else:\n",
        "    print(\"not diagonally dominant\")\n",
        "\n",
        "    #jadi karena matrix not diagonally dominant, metode gauss seidel tidak dapat menghasilkan nilai yang konvergen, walaupun urutan matriks sudah dirubah"
      ]
    },
    {
      "cell_type": "code",
      "source": [
        "#1.b.\n",
        "\n",
        "import numpy as np\n",
        "\n",
        "a=[[2,3,-1],[1,-1,2],[3,2,1]]\n",
        "b=[10,4,14]\n",
        "\n",
        "x=np.linalg.solve(a,b)\n",
        "x"
      ],
      "metadata": {
        "colab": {
          "base_uri": "https://localhost:8080/"
        },
        "id": "8GoGbgaXxjeQ",
        "outputId": "22877044-8d76-442a-b886-ddf18df3787c"
      },
      "execution_count": null,
      "outputs": [
        {
          "output_type": "execute_result",
          "data": {
            "text/plain": [
              "array([0.65, 4.15, 3.75])"
            ]
          },
          "metadata": {},
          "execution_count": 33
        }
      ]
    },
    {
      "cell_type": "code",
      "source": [
        "#2.a.\n",
        "\n",
        "import numpy as np\n",
        "\n",
        "a=[[3,-0.1,-0.2],[0.1,7,-0.3],[0.3,-0.2,10]]\n",
        "b=[7,85,-19.3,71,4]\n",
        "\n",
        "\n",
        "diag=np.diag(np.abs(a))\n",
        "\n",
        "odiag=np.sum(np.abs(a), axis=1)-diag\n",
        "\n",
        "if np.all(diag>odiag):\n",
        "    x=1\n",
        "    y=2\n",
        "    z=3\n",
        "    e=0.001\n",
        "    converged=False\n",
        "    xo=np.array([x,y,z])\n",
        "\n",
        "    for k in range(1,50):\n",
        "      x=(7.85+0.1*y+0.2*z)/3\n",
        "      y=(-19.3-0.1*x+0.3*z)/7\n",
        "      z=(71.4-0.3*x+0.2*y)/10\n",
        "      xn=np.array([x,y,z])\n",
        "\n",
        "      dx=np.sqrt(np.dot(xn-xo,xn-xo))\n",
        "\n",
        "      print(\"%d,   %.4f,    %.4f,    %.4f\"%(k,x,y,z))\n",
        "      if dx<e:\n",
        "        converged=True;\n",
        "        print(\"converged\")\n",
        "        break\n",
        "      xo=xn\n",
        "\n",
        "    if not converged:\n",
        "        print(\"not converged, increase the iteration\")\n",
        "\n",
        "else:\n",
        "    print(\"not diagonally dominant\")"
      ],
      "metadata": {
        "colab": {
          "base_uri": "https://localhost:8080/"
        },
        "id": "qoD6msBtwW4x",
        "outputId": "70297583-3bd4-4f14-ffef-f5511b0a92a9"
      },
      "execution_count": null,
      "outputs": [
        {
          "output_type": "stream",
          "name": "stdout",
          "text": [
            "1,   2.8833,    -2.6698,    7.0001\n",
            "2,   2.9943,    -2.4999,    7.0002\n",
            "3,   3.0000,    -2.5000,    7.0000\n",
            "4,   3.0000,    -2.5000,    7.0000\n",
            "converged\n"
          ]
        }
      ]
    },
    {
      "cell_type": "code",
      "source": [
        "#2.b.\n",
        "\n",
        "import numpy as np\n",
        "\n",
        "a=[[3,-0.1,-0.2],[0.1,7,-0.3],[0.3,-0.2,10]]\n",
        "b=[7.85,-19.3,71.4]\n",
        "\n",
        "x=np.linalg.solve(a,b)\n",
        "x\n",
        "\n",
        "#data menggunakan library numphy dengan data menggunakan metode gauss seidel sama"
      ],
      "metadata": {
        "colab": {
          "base_uri": "https://localhost:8080/"
        },
        "id": "zHgch3P_0eY0",
        "outputId": "77598dcc-5b9d-47d3-a68e-b61b084e9a3c"
      },
      "execution_count": null,
      "outputs": [
        {
          "output_type": "execute_result",
          "data": {
            "text/plain": [
              "array([ 3. , -2.5,  7. ])"
            ]
          },
          "metadata": {},
          "execution_count": 35
        }
      ]
    },
    {
      "cell_type": "code",
      "source": [
        "#3.a.\n",
        "\n",
        "import numpy as np\n",
        "import matplotlib.pyplot as plt\n",
        "\n",
        "x=[5,4,6,7,5]\n",
        "y=[10,8,12,14,10]\n",
        "\n",
        "a=np.vstack([x,np.ones(len(x))]).T\n",
        "\n",
        "y = np.array(b)\n",
        "\n",
        "y=y[:,np.newaxis]\n",
        "\n",
        "alpha=np.dot((np.dot(np.linalg.inv(np.dot(a.T,a)),a.T)),y)\n",
        "print(alpha)\n",
        "\n",
        "#3.b.\n",
        "beta=alpha[0][0]\n",
        "alpha=alpha[1][0]\n",
        "\n",
        "x_line = np.linspace(min(x)-1, max(x)+1, 100)\n",
        "y_line = beta * x_line + alpha\n",
        "\n",
        "plt.scatter(x, y, color='red', label='Data Titik')\n",
        "\n",
        "plt.plot(x_line, y_line, color='blue', label=f'Garis Regresi: y = {beta:.2f}x + {alpha:.2f}')\n",
        "\n",
        "plt.xlabel('x')\n",
        "plt.ylabel('y')\n",
        "plt.title('Plot Regresi Linear Menggunakan Least Squares')\n",
        "plt.legend()\n",
        "plt.grid(True)\n",
        "plt.show()\n",
        "\n"
      ],
      "metadata": {
        "colab": {
          "base_uri": "https://localhost:8080/",
          "height": 507
        },
        "id": "6-_d0VHD4Q4x",
        "outputId": "f52fc434-c368-4acf-d281-dd94c99c26a6"
      },
      "execution_count": null,
      "outputs": [
        {
          "output_type": "stream",
          "name": "stdout",
          "text": [
            "[[ 2.00000000e+00]\n",
            " [-3.55271368e-15]]\n"
          ]
        },
        {
          "output_type": "display_data",
          "data": {
            "text/plain": [
              "<Figure size 640x480 with 1 Axes>"
            ],
            "image/png": "[encoded data removed]"
          },
          "metadata": {}
        }
      ]
    },
    {
      "cell_type": "markdown",
      "source": [],
      "metadata": {
        "id": "-oALQw9B-QKV"
      }
    }
  ]
}