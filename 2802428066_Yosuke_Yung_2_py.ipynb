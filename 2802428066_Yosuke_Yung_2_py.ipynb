{
  "nbformat": 4,
  "nbformat_minor": 0,
  "metadata": {
    "colab": {
      "provenance": [],
      "authorship_tag": "ABX9TyOBjFLgrsYkBuS7PyZ+H6sA",
      "include_colab_link": true
    },
    "kernelspec": {
      "name": "python3",
      "display_name": "Python 3"
    },
    "language_info": {
      "name": "python"
    }
  },
  "cells": [
    {
      "cell_type": "markdown",
      "metadata": {
        "id": "view-in-github",
        "colab_type": "text"
      },
      "source": [
        "<a href=\"https://colab.research.google.com/github/yosukeyung/scientific-computing/blob/main/2802428066_Yosuke_Yung_2_py.ipynb\" target=\"_parent\"><img src=\"https://colab.research.google.com/assets/colab-badge.svg\" alt=\"Open In Colab\"/></a>"
      ]
    },
    {
      "cell_type": "code",
      "execution_count": null,
      "metadata": {
        "colab": {
          "base_uri": "https://localhost:8080/"
        },
        "id": "S8ulqde3MOhK",
        "outputId": "047dd06a-5b65-4549-d6cd-4d2c4e9d8b63"
      },
      "outputs": [
        {
          "output_type": "stream",
          "name": "stdout",
          "text": [
            "matrix is diagonnally dominant\n",
            "iteration results\n",
            " k,   x1,   x2,   x3\n",
            "1, 1.7500, -1.0625, -0.7937\n",
            "2, 1.8508, -1.5838, -0.5633\n",
            "3, 2.1327, -1.5103, -0.6847\n",
            "4, 2.0596, -1.5678, -0.6340\n",
            "5, 2.1002, -1.5463, -0.6569\n",
            "6, 2.0835, -1.5565, -0.6468\n",
            "7, 2.0911, -1.5520, -0.6513\n",
            "converged\n"
          ]
        }
      ],
      "source": [
        "import numpy as np\n",
        "\n",
        "a=[[8, 3, -3], [-2, -8, 5], [3, 5, 10]]\n",
        "b=[14, 5, -8]\n",
        "\n",
        "diag=np.diag(np.abs(a))\n",
        "\n",
        "calc=np.sum(np.abs(a), axis=1)-diag\n",
        "\n",
        "if np.all(diag>calc):\n",
        "  print(\"matrix is diagonnally dominant\")\n",
        "else:\n",
        "  print(\"matrix is not diagoanlly dominant\")\n",
        "\n",
        "x1=0\n",
        "x2=0\n",
        "x3=0\n",
        "eps=0.01\n",
        "converged=False\n",
        "\n",
        "xo=np.array([x1, x2, x3])\n",
        "\n",
        "print(\"iteration results\")\n",
        "print(\" k,   x1,   x2,   x3\")\n",
        "\n",
        "for k in range(1, 50):\n",
        "  x1=(b[0]-a[0][1]*x2-a[0][2]*x3)/a[0][0]\n",
        "  x2=(b[1]-a[1][0]*x1-a[1][2]*x3)/a[1][1]\n",
        "  x3=(b[2]-a[2][0]*x1-a[2][1]*x2)/a[2][2]\n",
        "  x=np.array([x1, x2, x3])\n",
        "  dx=np.sqrt(np.dot(x-xo, x-xo))\n",
        "  print(\"%d, %.4f, %.4f, %.4f\"%(k, x1, x2, x3))\n",
        "  if dx<eps:\n",
        "    converged=True\n",
        "    print(\"converged\")\n",
        "    break\n",
        "  xo=x\n",
        "\n",
        "if not converged:\n",
        "  print(\"not converged, increase the # of iterations\")\n",
        "\n",
        "\n",
        "\n",
        "\n"
      ]
    },
    {
      "cell_type": "code",
      "source": [
        "import numpy as np\n",
        "\n",
        "a=[[4, 3, -5], [-2, -4, 5], [8, 8, 0]]\n",
        "b=[2, 5, -3]\n",
        "\n",
        "x=np.linalg.solve(a, b)\n",
        "y=np.linalg.inv(a)\n",
        "z=np.dot(y, b)\n",
        "x, z\n"
      ],
      "metadata": {
        "colab": {
          "base_uri": "https://localhost:8080/"
        },
        "id": "_z67cxWhPrty",
        "outputId": "7243bda5-d342-495f-86b4-5f263583fe1d"
      },
      "execution_count": null,
      "outputs": [
        {
          "output_type": "execute_result",
          "data": {
            "text/plain": [
              "(array([ 2.20833333, -2.58333333, -0.18333333]),\n",
              " array([ 2.20833333, -2.58333333, -0.18333333]))"
            ]
          },
          "metadata": {},
          "execution_count": 15
        }
      ]
    }
  ]
}